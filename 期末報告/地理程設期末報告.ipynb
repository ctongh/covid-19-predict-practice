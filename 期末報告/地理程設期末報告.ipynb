{
 "cells": [
  {
   "cell_type": "code",
   "execution_count": 59,
   "metadata": {},
   "outputs": [],
   "source": [
    "%matplotlib inline\n",
    "import numpy as np\n",
    "import matplotlib.pyplot as plt\n",
    "import pandas as pd\n",
    "import pandas_datareader.data as web\n",
    "from sklearn.model_selection import train_test_split\n",
    "from sklearn.linear_model import LinearRegression"
   ]
  },
  {
   "cell_type": "code",
   "execution_count": 60,
   "metadata": {},
   "outputs": [
    {
     "data": {
      "text/html": [
       "<div>\n",
       "<style scoped>\n",
       "    .dataframe tbody tr th:only-of-type {\n",
       "        vertical-align: middle;\n",
       "    }\n",
       "\n",
       "    .dataframe tbody tr th {\n",
       "        vertical-align: top;\n",
       "    }\n",
       "\n",
       "    .dataframe thead th {\n",
       "        text-align: right;\n",
       "    }\n",
       "</style>\n",
       "<table border=\"1\" class=\"dataframe\">\n",
       "  <thead>\n",
       "    <tr style=\"text-align: right;\">\n",
       "      <th></th>\n",
       "      <th>date</th>\n",
       "      <th>death</th>\n",
       "      <th>deathIncrease</th>\n",
       "      <th>inIcuCumulative</th>\n",
       "      <th>inIcuCurrently</th>\n",
       "      <th>hospitalizedIncrease</th>\n",
       "      <th>hospitalizedCurrently</th>\n",
       "      <th>hospitalizedCumulative</th>\n",
       "      <th>negative</th>\n",
       "      <th>negativeIncrease</th>\n",
       "      <th>onVentilatorCumulative</th>\n",
       "      <th>onVentilatorCurrently</th>\n",
       "      <th>positive</th>\n",
       "      <th>positiveIncrease</th>\n",
       "      <th>recovered</th>\n",
       "      <th>states</th>\n",
       "      <th>totalTestResults</th>\n",
       "      <th>totalTestResultsIncrease</th>\n",
       "    </tr>\n",
       "  </thead>\n",
       "  <tbody>\n",
       "    <tr>\n",
       "      <th>0</th>\n",
       "      <td>2020-12-29</td>\n",
       "      <td>329605.0</td>\n",
       "      <td>3283</td>\n",
       "      <td>36583.0</td>\n",
       "      <td>22838.0</td>\n",
       "      <td>5152</td>\n",
       "      <td>124686.0</td>\n",
       "      <td>676253.0</td>\n",
       "      <td>191439490.0</td>\n",
       "      <td>891791</td>\n",
       "      <td>3635.0</td>\n",
       "      <td>7885.0</td>\n",
       "      <td>19267233.0</td>\n",
       "      <td>194512</td>\n",
       "      <td>7702010.0</td>\n",
       "      <td>56</td>\n",
       "      <td>247172624</td>\n",
       "      <td>1236471</td>\n",
       "    </tr>\n",
       "    <tr>\n",
       "      <th>1</th>\n",
       "      <td>2020-12-28</td>\n",
       "      <td>326322.0</td>\n",
       "      <td>1491</td>\n",
       "      <td>36308.0</td>\n",
       "      <td>22592.0</td>\n",
       "      <td>3832</td>\n",
       "      <td>121235.0</td>\n",
       "      <td>671101.0</td>\n",
       "      <td>190547699.0</td>\n",
       "      <td>1181168</td>\n",
       "      <td>3612.0</td>\n",
       "      <td>7951.0</td>\n",
       "      <td>19072721.0</td>\n",
       "      <td>162190</td>\n",
       "      <td>7603260.0</td>\n",
       "      <td>56</td>\n",
       "      <td>245936153</td>\n",
       "      <td>1540320</td>\n",
       "    </tr>\n",
       "    <tr>\n",
       "      <th>2</th>\n",
       "      <td>2020-12-27</td>\n",
       "      <td>324831.0</td>\n",
       "      <td>1402</td>\n",
       "      <td>36164.0</td>\n",
       "      <td>22447.0</td>\n",
       "      <td>2302</td>\n",
       "      <td>118720.0</td>\n",
       "      <td>667269.0</td>\n",
       "      <td>189366531.0</td>\n",
       "      <td>1011283</td>\n",
       "      <td>3604.0</td>\n",
       "      <td>7878.0</td>\n",
       "      <td>18910531.0</td>\n",
       "      <td>153194</td>\n",
       "      <td>7530424.0</td>\n",
       "      <td>56</td>\n",
       "      <td>244395833</td>\n",
       "      <td>1383493</td>\n",
       "    </tr>\n",
       "    <tr>\n",
       "      <th>3</th>\n",
       "      <td>2020-12-26</td>\n",
       "      <td>323429.0</td>\n",
       "      <td>1419</td>\n",
       "      <td>36038.0</td>\n",
       "      <td>22373.0</td>\n",
       "      <td>2292</td>\n",
       "      <td>117344.0</td>\n",
       "      <td>664967.0</td>\n",
       "      <td>188355248.0</td>\n",
       "      <td>1520750</td>\n",
       "      <td>3593.0</td>\n",
       "      <td>7809.0</td>\n",
       "      <td>18757337.0</td>\n",
       "      <td>189494</td>\n",
       "      <td>7473612.0</td>\n",
       "      <td>56</td>\n",
       "      <td>243012340</td>\n",
       "      <td>2137261</td>\n",
       "    </tr>\n",
       "    <tr>\n",
       "      <th>4</th>\n",
       "      <td>2020-12-25</td>\n",
       "      <td>322010.0</td>\n",
       "      <td>1548</td>\n",
       "      <td>35945.0</td>\n",
       "      <td>22418.0</td>\n",
       "      <td>2001</td>\n",
       "      <td>118948.0</td>\n",
       "      <td>662675.0</td>\n",
       "      <td>186834498.0</td>\n",
       "      <td>967085</td>\n",
       "      <td>3592.0</td>\n",
       "      <td>7831.0</td>\n",
       "      <td>18567843.0</td>\n",
       "      <td>125368</td>\n",
       "      <td>7362280.0</td>\n",
       "      <td>56</td>\n",
       "      <td>240875079</td>\n",
       "      <td>1290774</td>\n",
       "    </tr>\n",
       "    <tr>\n",
       "      <th>...</th>\n",
       "      <td>...</td>\n",
       "      <td>...</td>\n",
       "      <td>...</td>\n",
       "      <td>...</td>\n",
       "      <td>...</td>\n",
       "      <td>...</td>\n",
       "      <td>...</td>\n",
       "      <td>...</td>\n",
       "      <td>...</td>\n",
       "      <td>...</td>\n",
       "      <td>...</td>\n",
       "      <td>...</td>\n",
       "      <td>...</td>\n",
       "      <td>...</td>\n",
       "      <td>...</td>\n",
       "      <td>...</td>\n",
       "      <td>...</td>\n",
       "      <td>...</td>\n",
       "    </tr>\n",
       "    <tr>\n",
       "      <th>347</th>\n",
       "      <td>2020-01-17</td>\n",
       "      <td>NaN</td>\n",
       "      <td>0</td>\n",
       "      <td>NaN</td>\n",
       "      <td>NaN</td>\n",
       "      <td>0</td>\n",
       "      <td>NaN</td>\n",
       "      <td>NaN</td>\n",
       "      <td>NaN</td>\n",
       "      <td>0</td>\n",
       "      <td>NaN</td>\n",
       "      <td>NaN</td>\n",
       "      <td>0.0</td>\n",
       "      <td>0</td>\n",
       "      <td>NaN</td>\n",
       "      <td>1</td>\n",
       "      <td>0</td>\n",
       "      <td>0</td>\n",
       "    </tr>\n",
       "    <tr>\n",
       "      <th>348</th>\n",
       "      <td>2020-01-16</td>\n",
       "      <td>NaN</td>\n",
       "      <td>0</td>\n",
       "      <td>NaN</td>\n",
       "      <td>NaN</td>\n",
       "      <td>0</td>\n",
       "      <td>NaN</td>\n",
       "      <td>NaN</td>\n",
       "      <td>NaN</td>\n",
       "      <td>0</td>\n",
       "      <td>NaN</td>\n",
       "      <td>NaN</td>\n",
       "      <td>0.0</td>\n",
       "      <td>0</td>\n",
       "      <td>NaN</td>\n",
       "      <td>1</td>\n",
       "      <td>0</td>\n",
       "      <td>0</td>\n",
       "    </tr>\n",
       "    <tr>\n",
       "      <th>349</th>\n",
       "      <td>2020-01-15</td>\n",
       "      <td>NaN</td>\n",
       "      <td>0</td>\n",
       "      <td>NaN</td>\n",
       "      <td>NaN</td>\n",
       "      <td>0</td>\n",
       "      <td>NaN</td>\n",
       "      <td>NaN</td>\n",
       "      <td>NaN</td>\n",
       "      <td>0</td>\n",
       "      <td>NaN</td>\n",
       "      <td>NaN</td>\n",
       "      <td>0.0</td>\n",
       "      <td>0</td>\n",
       "      <td>NaN</td>\n",
       "      <td>1</td>\n",
       "      <td>0</td>\n",
       "      <td>0</td>\n",
       "    </tr>\n",
       "    <tr>\n",
       "      <th>350</th>\n",
       "      <td>2020-01-14</td>\n",
       "      <td>NaN</td>\n",
       "      <td>0</td>\n",
       "      <td>NaN</td>\n",
       "      <td>NaN</td>\n",
       "      <td>0</td>\n",
       "      <td>NaN</td>\n",
       "      <td>NaN</td>\n",
       "      <td>NaN</td>\n",
       "      <td>0</td>\n",
       "      <td>NaN</td>\n",
       "      <td>NaN</td>\n",
       "      <td>0.0</td>\n",
       "      <td>0</td>\n",
       "      <td>NaN</td>\n",
       "      <td>1</td>\n",
       "      <td>0</td>\n",
       "      <td>0</td>\n",
       "    </tr>\n",
       "    <tr>\n",
       "      <th>351</th>\n",
       "      <td>2020-01-13</td>\n",
       "      <td>NaN</td>\n",
       "      <td>0</td>\n",
       "      <td>NaN</td>\n",
       "      <td>NaN</td>\n",
       "      <td>0</td>\n",
       "      <td>NaN</td>\n",
       "      <td>NaN</td>\n",
       "      <td>NaN</td>\n",
       "      <td>0</td>\n",
       "      <td>NaN</td>\n",
       "      <td>NaN</td>\n",
       "      <td>NaN</td>\n",
       "      <td>0</td>\n",
       "      <td>NaN</td>\n",
       "      <td>1</td>\n",
       "      <td>0</td>\n",
       "      <td>0</td>\n",
       "    </tr>\n",
       "  </tbody>\n",
       "</table>\n",
       "<p>352 rows × 18 columns</p>\n",
       "</div>"
      ],
      "text/plain": [
       "           date     death  deathIncrease  inIcuCumulative  inIcuCurrently  \\\n",
       "0    2020-12-29  329605.0           3283          36583.0         22838.0   \n",
       "1    2020-12-28  326322.0           1491          36308.0         22592.0   \n",
       "2    2020-12-27  324831.0           1402          36164.0         22447.0   \n",
       "3    2020-12-26  323429.0           1419          36038.0         22373.0   \n",
       "4    2020-12-25  322010.0           1548          35945.0         22418.0   \n",
       "..          ...       ...            ...              ...             ...   \n",
       "347  2020-01-17       NaN              0              NaN             NaN   \n",
       "348  2020-01-16       NaN              0              NaN             NaN   \n",
       "349  2020-01-15       NaN              0              NaN             NaN   \n",
       "350  2020-01-14       NaN              0              NaN             NaN   \n",
       "351  2020-01-13       NaN              0              NaN             NaN   \n",
       "\n",
       "     hospitalizedIncrease  hospitalizedCurrently  hospitalizedCumulative  \\\n",
       "0                    5152               124686.0                676253.0   \n",
       "1                    3832               121235.0                671101.0   \n",
       "2                    2302               118720.0                667269.0   \n",
       "3                    2292               117344.0                664967.0   \n",
       "4                    2001               118948.0                662675.0   \n",
       "..                    ...                    ...                     ...   \n",
       "347                     0                    NaN                     NaN   \n",
       "348                     0                    NaN                     NaN   \n",
       "349                     0                    NaN                     NaN   \n",
       "350                     0                    NaN                     NaN   \n",
       "351                     0                    NaN                     NaN   \n",
       "\n",
       "        negative  negativeIncrease  onVentilatorCumulative  \\\n",
       "0    191439490.0            891791                  3635.0   \n",
       "1    190547699.0           1181168                  3612.0   \n",
       "2    189366531.0           1011283                  3604.0   \n",
       "3    188355248.0           1520750                  3593.0   \n",
       "4    186834498.0            967085                  3592.0   \n",
       "..           ...               ...                     ...   \n",
       "347          NaN                 0                     NaN   \n",
       "348          NaN                 0                     NaN   \n",
       "349          NaN                 0                     NaN   \n",
       "350          NaN                 0                     NaN   \n",
       "351          NaN                 0                     NaN   \n",
       "\n",
       "     onVentilatorCurrently    positive  positiveIncrease  recovered  states  \\\n",
       "0                   7885.0  19267233.0            194512  7702010.0      56   \n",
       "1                   7951.0  19072721.0            162190  7603260.0      56   \n",
       "2                   7878.0  18910531.0            153194  7530424.0      56   \n",
       "3                   7809.0  18757337.0            189494  7473612.0      56   \n",
       "4                   7831.0  18567843.0            125368  7362280.0      56   \n",
       "..                     ...         ...               ...        ...     ...   \n",
       "347                    NaN         0.0                 0        NaN       1   \n",
       "348                    NaN         0.0                 0        NaN       1   \n",
       "349                    NaN         0.0                 0        NaN       1   \n",
       "350                    NaN         0.0                 0        NaN       1   \n",
       "351                    NaN         NaN                 0        NaN       1   \n",
       "\n",
       "     totalTestResults  totalTestResultsIncrease  \n",
       "0           247172624                   1236471  \n",
       "1           245936153                   1540320  \n",
       "2           244395833                   1383493  \n",
       "3           243012340                   2137261  \n",
       "4           240875079                   1290774  \n",
       "..                ...                       ...  \n",
       "347                 0                         0  \n",
       "348                 0                         0  \n",
       "349                 0                         0  \n",
       "350                 0                         0  \n",
       "351                 0                         0  \n",
       "\n",
       "[352 rows x 18 columns]"
      ]
     },
     "execution_count": 60,
     "metadata": {},
     "output_type": "execute_result"
    }
   ],
   "source": [
    "usdf = pd.read_csv(\"national-history.csv\")\n",
    "## 將美國的COVID-19資料讀取進來\n",
    "usdf"
   ]
  },
  {
   "cell_type": "code",
   "execution_count": 61,
   "metadata": {},
   "outputs": [
    {
     "data": {
      "text/plain": [
       "352"
      ]
     },
     "execution_count": 61,
     "metadata": {},
     "output_type": "execute_result"
    }
   ],
   "source": [
    "len(usdf)  ##計算這個data的長度"
   ]
  },
  {
   "cell_type": "code",
   "execution_count": 62,
   "metadata": {},
   "outputs": [
    {
     "data": {
      "text/plain": [
       "(352, 1)"
      ]
     },
     "execution_count": 62,
     "metadata": {},
     "output_type": "execute_result"
    }
   ],
   "source": [
    "positiveIncrease = np.array(usdf[\"positiveIncrease\"])   #將positiveIncrease資料取出來並且轉換成array的形式\n",
    "positiveIncrease.shape = (352, 1)             ###################*************這行超重要**************############################\n",
    "positiveIncrease.shape\n",
    "##positiveIncrease"
   ]
  },
  {
   "cell_type": "code",
   "execution_count": 63,
   "metadata": {},
   "outputs": [],
   "source": [
    "positiveIncrease1 = positiveIncrease[::-1]  ##因為資料是從新到舊，所以將他反轉變成舊到新\n",
    "##positiveIncrease1"
   ]
  },
  {
   "cell_type": "code",
   "execution_count": 64,
   "metadata": {},
   "outputs": [],
   "source": [
    "X = positiveIncrease1[:351]\n",
    "Y = positiveIncrease1[1:]      ##設定ＸＹ"
   ]
  },
  {
   "cell_type": "code",
   "execution_count": 65,
   "metadata": {},
   "outputs": [],
   "source": [
    "x_train, x_test, y_train, y_test = train_test_split(X, Y, \n",
    "                                                   test_size=0.2, \n",
    "                                                   random_state=87)   ##分割資料"
   ]
  },
  {
   "cell_type": "code",
   "execution_count": 66,
   "metadata": {},
   "outputs": [],
   "source": [
    "regr = LinearRegression() ##開機"
   ]
  },
  {
   "cell_type": "code",
   "execution_count": 67,
   "metadata": {},
   "outputs": [
    {
     "data": {
      "text/plain": [
       "LinearRegression()"
      ]
     },
     "execution_count": 67,
     "metadata": {},
     "output_type": "execute_result"
    }
   ],
   "source": [
    "regr.fit(x_train, y_train) #預測"
   ]
  },
  {
   "cell_type": "code",
   "execution_count": 68,
   "metadata": {},
   "outputs": [
    {
     "data": {
      "image/png": "[encoded data removed]",
      "text/plain": [
       "<Figure size 432x288 with 1 Axes>"
      ]
     },
     "metadata": {
      "needs_background": "light"
     },
     "output_type": "display_data"
    }
   ],
   "source": [
    "plt.scatter(x_train, y_train)\n",
    "plt.plot(x_train, regr.predict(x_train), \"r\");     ##訓練出來的資料"
   ]
  },
  {
   "cell_type": "code",
   "execution_count": 69,
   "metadata": {},
   "outputs": [
    {
     "data": {
      "image/png": "[encoded data removed]",
      "text/plain": [
       "<Figure size 432x288 with 1 Axes>"
      ]
     },
     "metadata": {
      "needs_background": "light"
     },
     "output_type": "display_data"
    }
   ],
   "source": [
    "plt.scatter(x_test, y_test)\n",
    "y_predict = regr.predict(x_test)\n",
    "plt.plot(x_test, y_predict, \"limegreen\");    #預測出來的資料"
   ]
  },
  {
   "cell_type": "code",
   "execution_count": 70,
   "metadata": {},
   "outputs": [
    {
     "data": {
      "image/png": "[encoded data removed]",
      "text/plain": [
       "<Figure size 432x288 with 1 Axes>"
      ]
     },
     "metadata": {
      "needs_background": "light"
     },
     "output_type": "display_data"
    }
   ],
   "source": [
    "plt.scatter(x_train, y_train)\n",
    "plt.scatter(x_test, y_test)\n",
    "y_predict = regr.predict(x_test)\n",
    "plt.plot(x_test, y_predict, \"limegreen\");  \n",
    "plt.plot(x_train, regr.predict(x_train), \"r\");\n",
    "\n",
    "plt.title(\"Forecast Covid-19 Increasing\")\n",
    "plt.xlabel(\"Positive Increase (Yesterday)\")\n",
    "plt.ylabel(\"Positive Increase (Today)\")\n",
    "\n",
    "plt.show()"
   ]
  },
  {
   "cell_type": "code",
   "execution_count": 71,
   "metadata": {},
   "outputs": [
    {
     "name": "stdout",
     "output_type": "stream",
     "text": [
      "預測出來的線性迴歸方程式為y = 0.9994422319804038x + 731.113118111738\n",
      "決定係數為0.902719635078772\n"
     ]
    }
   ],
   "source": [
    "print(\"預測出來的線性迴歸方程式為y = {}x + {}\".format(float(regr.coef_), float(regr.intercept_))) \n",
    "print(\"決定係數為{}\".format(regr.score(x_test, y_test)))"
   ]
  }
 ],
 "metadata": {
  "kernelspec": {
   "display_name": "Python 3",
   "language": "python",
   "name": "python3"
  },
  "language_info": {
   "codemirror_mode": {
    "name": "ipython",
    "version": 3
   },
   "file_extension": ".py",
   "mimetype": "text/x-python",
   "name": "python",
   "nbconvert_exporter": "python",
   "pygments_lexer": "ipython3",
   "version": "3.8.3"
  }
 },
 "nbformat": 4,
 "nbformat_minor": 4
}
